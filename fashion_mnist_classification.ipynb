{
 "cells": [
  {
   "attachments": {},
   "cell_type": "markdown",
   "metadata": {},
   "source": [
    "# Fashion MNIST Classification using Neural Networks"
   ]
  },
  {
   "attachments": {},
   "cell_type": "markdown",
   "metadata": {},
   "source": [
    "In this notebook, we'll train a neural network to classify images of clothing items from the [Fashion MNIST dataset](https://github.com/zalandoresearch/fashion-mnist). The dataset consists of 70,000 grayscale images in 10 classes: T-shirt/top, Trouser, Pullover, Dress, Coat, Sandal, Shirt, Sneaker, Bag, and Ankle boot. Each image is 28x28 pixels, and the classes are mutually exclusive.\n",
    "\n",
    "We'll use the [Keras](https://keras.io/) deep learning framework to build and train our neural network. Keras provides a high-level API that makes it easy to define and train neural networks, even for beginners."
   ]
  },
  {
   "attachments": {},
   "cell_type": "markdown",
   "metadata": {},
   "source": [
    "## Importing Libraries\n",
    "\n",
    "Let's start by importing the necessary libraries for our project:"
   ]
  },
  {
   "cell_type": "code",
   "execution_count": 1,
   "metadata": {},
   "outputs": [],
   "source": [
    "from tensorflow import *\n",
    "import numpy as np\n",
    "from matplotlib import pyplot as plt\n",
    "from keras.datasets import fashion_mnist\n",
    "from keras.utils import to_categorical\n",
    "from keras import models\n",
    "from keras import layers\n"
   ]
  },
  {
   "attachments": {},
   "cell_type": "markdown",
   "metadata": {},
   "source": [
    "We'll use NumPy for numerical operations, Matplotlib for visualization, and Keras for building and training the neural network."
   ]
  },
  {
   "attachments": {},
   "cell_type": "markdown",
   "metadata": {},
   "source": [
    "## Loading the Data\n",
    "Next, we'll load the Fashion MNIST dataset and split it into training and testing sets:"
   ]
  },
  {
   "cell_type": "code",
   "execution_count": 2,
   "metadata": {},
   "outputs": [],
   "source": [
    "# Loading the fashion MNIST dataset and splitting it into training and testing sets\n",
    "(train_images, train_labels), (test_images,\n",
    "                               test_labels) = fashion_mnist.load_data()\n"
   ]
  },
  {
   "cell_type": "code",
   "execution_count": 3,
   "metadata": {},
   "outputs": [
    {
     "name": "stdout",
     "output_type": "stream",
     "text": [
      "Number of samples in the training set: 60000\n",
      "Number of labels in the training set: 60000\n",
      "Number of samples in the test set: 10000\n",
      "Number of labels in the test set: 10000\n"
     ]
    }
   ],
   "source": [
    "# Printing the number of samples in the training and testing sets\n",
    "print(\"Number of samples in the training set:\", len(train_images))\n",
    "print(\"Number of labels in the training set:\", len(train_labels))\n",
    "print(\"Number of samples in the test set:\", len(test_images))\n",
    "print(\"Number of labels in the test set:\", len(test_labels))\n"
   ]
  },
  {
   "cell_type": "code",
   "execution_count": 4,
   "metadata": {},
   "outputs": [
    {
     "name": "stdout",
     "output_type": "stream",
     "text": [
      "Shape of the testing images array: (10000, 28, 28)\n"
     ]
    }
   ],
   "source": [
    "# Printing the shape of the testing images array\n",
    "print(\"Shape of the testing images array:\", test_images.shape)\n"
   ]
  },
  {
   "cell_type": "code",
   "execution_count": 5,
   "metadata": {},
   "outputs": [
    {
     "name": "stdout",
     "output_type": "stream",
     "text": [
      "Shape of the testing images array: (60000, 28, 28)\n"
     ]
    }
   ],
   "source": [
    "# Printing the shape of the train images array\n",
    "print(\"Shape of the testing images array:\", train_images.shape)\n"
   ]
  },
  {
   "attachments": {},
   "cell_type": "markdown",
   "metadata": {},
   "source": [
    "We print the number of samples and labels in the training and testing sets to verify that the dataset was loaded correctly."
   ]
  },
  {
   "attachments": {},
   "cell_type": "markdown",
   "metadata": {},
   "source": [
    "## Exploring the Data\n",
    "Let's take a look at an example image from the testing set and its corresponding class label:"
   ]
  },
  {
   "cell_type": "code",
   "execution_count": 6,
   "metadata": {},
   "outputs": [
    {
     "name": "stdout",
     "output_type": "stream",
     "text": [
      "Class Label: 0\n"
     ]
    },
    {
     "data": {
      "image/png": "[encoded data removed]",
      "text/plain": [
       "<Figure size 640x480 with 1 Axes>"
      ]
     },
     "metadata": {},
     "output_type": "display_data"
    }
   ],
   "source": [
    "# Displaying an example image from the testing set and its class label\n",
    "digit = test_images[120]\n",
    "print(\"Class Label:\", test_labels[120])\n",
    "plt.imshow(digit, cmap=plt.cm.binary)\n",
    "plt.show()\n"
   ]
  },
  {
   "attachments": {},
   "cell_type": "markdown",
   "metadata": {},
   "source": [
    "This code displays the 120th image from the testing set (a sandal) and its class label."
   ]
  },
  {
   "cell_type": "code",
   "execution_count": 7,
   "metadata": {},
   "outputs": [
    {
     "name": "stdout",
     "output_type": "stream",
     "text": [
      "Unique class labels in the training set: array([9, 0, 0, ..., 3, 0, 5], dtype=uint8)\n",
      "Unique class labels in the training set: array([0, 1, 2, 3, 4, 5, 6, 7, 8, 9], dtype=uint8)\n",
      "Unique class labels in the test set: array([9, 2, 1, ..., 8, 1, 5], dtype=uint8)\n",
      "Unique class labels in the test set: array([0, 1, 2, 3, 4, 5, 6, 7, 8, 9], dtype=uint8)\n"
     ]
    }
   ],
   "source": [
    "# Printing the unique class labels in the training and testing sets\n",
    "print(\"Unique class labels in the training set:\", train_labels)\n",
    "print(\"Unique class labels in the training set:\", np.unique(train_labels))\n",
    "print(\"Unique class labels in the test set:\", test_labels)\n",
    "print(\"Unique class labels in the test set:\", np.unique(test_labels))\n"
   ]
  },
  {
   "attachments": {},
   "cell_type": "markdown",
   "metadata": {},
   "source": [
    "## Defining the Neural Network\n",
    "We'll use a simple neural network with two layers: a fully connected hidden layer with 512 units and ReLU activation, and a fully connected output layer with 10 units and softmax activation. We'll define the neural network using Keras' Sequential API:"
   ]
  },
  {
   "cell_type": "code",
   "execution_count": 8,
   "metadata": {},
   "outputs": [],
   "source": [
    "# Defining the neural network architecture\n",
    "network = models.Sequential()\n",
    "network.add(layers.Dense(512, activation='relu', input_shape=(28*28, )))\n",
    "network.add(layers.Dense(10, activation='softmax'))\n"
   ]
  },
  {
   "attachments": {},
   "cell_type": "markdown",
   "metadata": {},
   "source": [
    "## Compiling the Model\n",
    "Now that we've defined the neural network architecture, we need to compile the model. We'll use the rmsprop optimizer and categorical_crossentropy loss function, and track accuracy as a metric:"
   ]
  },
  {
   "cell_type": "code",
   "execution_count": 9,
   "metadata": {},
   "outputs": [],
   "source": [
    "# Compiling the model by specifying the optimizer, loss function, and evaluation metrics\n",
    "network.compile(optimizer='rmsprop',\n",
    "                loss='categorical_crossentropy',\n",
    "                metrics=['accuracy'])\n"
   ]
  },
  {
   "cell_type": "code",
   "execution_count": 10,
   "metadata": {},
   "outputs": [
    {
     "data": {
      "text/plain": [
       "3"
      ]
     },
     "execution_count": 10,
     "metadata": {},
     "output_type": "execute_result"
    }
   ],
   "source": [
    "train_images.ndim\n"
   ]
  },
  {
   "attachments": {},
   "cell_type": "markdown",
   "metadata": {},
   "source": [
    "## Preprocessing the Data\n",
    "Before training the neural network, we need to preprocess the data. First, we'll reshape the images arrays to have a single dimension of length 784 (28x28). Then, we'll normalize the pixel values to be between 0 and 1:"
   ]
  },
  {
   "cell_type": "code",
   "execution_count": 11,
   "metadata": {},
   "outputs": [],
   "source": [
    "# Reshaping and normalizing the training and testing images arrays\n",
    "train_images = train_images.reshape((60000, 28 * 28))\n",
    "train_images = train_images.astype('float32') / 255  # Normalization\n",
    "\n",
    "test_images = test_images.reshape((10000, 28 * 28))\n",
    "test_images = test_images.astype('float32') / 255  # Normalization\n"
   ]
  },
  {
   "cell_type": "code",
   "execution_count": 12,
   "metadata": {},
   "outputs": [
    {
     "data": {
      "text/plain": [
       "9"
      ]
     },
     "execution_count": 12,
     "metadata": {},
     "output_type": "execute_result"
    }
   ],
   "source": [
    "train_labels[0]\n"
   ]
  },
  {
   "attachments": {},
   "cell_type": "markdown",
   "metadata": {},
   "source": [
    "We also cast the pixel values to float32 to avoid numerical issues during training.\n",
    "\n",
    "Next, we'll convert the class labels to one-hot encoded vectors:"
   ]
  },
  {
   "cell_type": "code",
   "execution_count": 13,
   "metadata": {},
   "outputs": [],
   "source": [
    "# Converting the class labels to one-hot encoded vectors\n",
    "train_labels = to_categorical(train_labels)\n",
    "test_labels = to_categorical(test_labels)\n"
   ]
  },
  {
   "cell_type": "code",
   "execution_count": 14,
   "metadata": {},
   "outputs": [
    {
     "data": {
      "text/plain": [
       "array([0., 0., 0., 0., 0., 0., 0., 0., 0., 1.], dtype=float32)"
      ]
     },
     "execution_count": 14,
     "metadata": {},
     "output_type": "execute_result"
    }
   ],
   "source": [
    "train_labels[0]\n"
   ]
  },
  {
   "attachments": {},
   "cell_type": "markdown",
   "metadata": {},
   "source": [
    "This allows us to use categorical crossentropy as the loss function for training the neural network."
   ]
  },
  {
   "attachments": {},
   "cell_type": "markdown",
   "metadata": {},
   "source": [
    "## Training the Model\n",
    "We're now ready to train the neural network. We'll use the fit() method to train the model on the training set for 5 epochs with a batch size of 128:"
   ]
  },
  {
   "cell_type": "code",
   "execution_count": 15,
   "metadata": {},
   "outputs": [
    {
     "name": "stdout",
     "output_type": "stream",
     "text": [
      "Epoch 1/5\n",
      "469/469 [==============================] - 3s 6ms/step - loss: 0.5579 - accuracy: 0.8027\n",
      "Epoch 2/5\n",
      "469/469 [==============================] - 3s 7ms/step - loss: 0.3844 - accuracy: 0.8588\n",
      "Epoch 3/5\n",
      "469/469 [==============================] - 3s 7ms/step - loss: 0.3397 - accuracy: 0.8761\n",
      "Epoch 4/5\n",
      "469/469 [==============================] - 3s 7ms/step - loss: 0.3128 - accuracy: 0.8833\n",
      "Epoch 5/5\n",
      "469/469 [==============================] - 3s 7ms/step - loss: 0.2939 - accuracy: 0.8904\n"
     ]
    },
    {
     "data": {
      "text/plain": [
       "<keras.callbacks.History at 0x1c92c8f2610>"
      ]
     },
     "execution_count": 15,
     "metadata": {},
     "output_type": "execute_result"
    }
   ],
   "source": [
    "# Training the neural network on the training set\n",
    "network.fit(train_images, train_labels, epochs=5, batch_size=128)\n"
   ]
  },
  {
   "attachments": {},
   "cell_type": "markdown",
   "metadata": {},
   "source": [
    "## Evaluating the Model\n",
    "Finally, we'll evaluate the performance of the model on the test set:"
   ]
  },
  {
   "cell_type": "code",
   "execution_count": 16,
   "metadata": {},
   "outputs": [
    {
     "name": "stdout",
     "output_type": "stream",
     "text": [
      "313/313 [==============================] - 1s 2ms/step - loss: 0.4169 - accuracy: 0.8432\n",
      "Test accuracy: 0.8432000279426575\n"
     ]
    }
   ],
   "source": [
    "# Evaluating the performance of the trained model on the test set\n",
    "test_loss, test_acc = network.evaluate(test_images, test_labels)\n",
    "print('Test accuracy:', test_acc)\n"
   ]
  },
  {
   "attachments": {},
   "cell_type": "markdown",
   "metadata": {},
   "source": [
    "We print the test accuracy as the final metric."
   ]
  },
  {
   "attachments": {},
   "cell_type": "markdown",
   "metadata": {},
   "source": [
    "This code loads the fashion MNIST dataset and trains a neural network to classify images of clothing items into 10 different classes. The neural network has two layers: a fully connected hidden layer with 512 units and ReLU activation, and a fully connected output layer with 10 units and softmax activation. The model is compiled with the RMSprop optimizer, categorical crossentropy loss function, and accuracy as the evaluation metric. The training and testing images arrays are reshaped to have a single dimension of length 784 and are normalized to have pixel values between 0 and 1. The class labels are converted to one-hot encoded vectors before training the model. The model is trained for 5 epochs with a batch size of 128, and its performance is evaluated on the test set. Finally, the test accuracy is printed."
   ]
  },
  {
   "attachments": {},
   "cell_type": "markdown",
   "metadata": {},
   "source": [
    "That's it! We've built a neural network that can classify images of clothing items with high accuracy. With some tweaking of the neural network architecture and training parameters, we can likely improve the performance even further."
   ]
  }
 ],
 "metadata": {
  "kernelspec": {
   "display_name": "Python 3",
   "language": "python",
   "name": "python3"
  },
  "language_info": {
   "codemirror_mode": {
    "name": "ipython",
    "version": 3
   },
   "file_extension": ".py",
   "mimetype": "text/x-python",
   "name": "python",
   "nbconvert_exporter": "python",
   "pygments_lexer": "ipython3",
   "version": "3.11.2"
  },
  "orig_nbformat": 2
 },
 "nbformat": 4,
 "nbformat_minor": 2
}
